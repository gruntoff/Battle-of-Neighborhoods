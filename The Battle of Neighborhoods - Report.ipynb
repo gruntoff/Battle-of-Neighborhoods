{
 "cells": [
  {
   "cell_type": "markdown",
   "metadata": {},
   "source": [
    "# The Battle of Neighborhoods\n",
    "## Report\n",
    "## 1. Business problem\n",
    "Couple of old friends decided to make a longtime dream come true. They want to open a craft beer **bar** in Vilnius, Lithuania.  \n",
    "And for that they need the right spot. \n",
    "\n",
    "Property experts say that the **three most important factors** in determining the desirability of a property are:\n",
    "1. Location\n",
    "2. Location\n",
    "3. Location\n",
    "\n",
    "So I have to choose which location fits thir business and their goals."
   ]
  },
  {
   "cell_type": "markdown",
   "metadata": {},
   "source": [
    "<tr>\n",
    "    <td> <img src=\"img/bar.gif\" alt=\"Drawing\" style=\"height: 220px; width: 220px;\"/> </td>\n",
    "    <td> <img src=\"img/ofcourse.gif\" alt=\"Drawing\" style=\"height: 220px; width: 220px;\"/> </td>\n",
    "</tr>"
   ]
  },
  {
   "cell_type": "markdown",
   "metadata": {},
   "source": [
    "## 2. Data\n",
    "### Data requirements\n",
    "After doing some research and reading some articles on how to choose perfect location for a bar (ex. <a src=\"https://www.dummies.com/business/start-a-business/how-to-find-your-bars-ideal-location/\">How to Find Your Bar’s Ideal Location</a>) I decided to use this data:\n",
    "- List of Vilnius neighborhoods \n",
    "- List of all Vilnius beer bars and stores\n",
    "- List of places to avoid (ex. adult stores, pawn shops, police stations)\n",
    "- List of places that is nice to have nearby (ex. parkings, public transport, taxi standings)\n",
    "\n",
    "### Data sources\n",
    "\n",
    "- <a src=\"https://en.wikipedia.org/wiki/Neighborhoods_of_Vilnius\">Neighborhoods of Vilnius</a>\n",
    "- <a src=\"https://developer.foursquare.com/docs/places-api/\">Foursquare Places API</a>"
   ]
  },
  {
   "cell_type": "markdown",
   "metadata": {},
   "source": [
    "## 3. Data analysis"
   ]
  },
  {
   "cell_type": "code",
   "execution_count": 37,
   "metadata": {},
   "outputs": [],
   "source": [
    "import foursquare\n",
    "import pandas as pd\n",
    "import numpy as np\n",
    "import folium\n",
    "import string\n",
    "import requests\n",
    "from sklearn.cluster import KMeans\n",
    "import seaborn as sns\n",
    "import matplotlib.pyplot as plt\n",
    "import matplotlib.cm as cm\n",
    "import matplotlib.colors as colors\n",
    "from scipy.spatial.distance import cdist"
   ]
  },
  {
   "cell_type": "code",
   "execution_count": 5,
   "metadata": {},
   "outputs": [],
   "source": [
    "url = 'https://en.wikipedia.org/wiki/Neighborhoods_of_Vilnius'\n",
    "df = pd.read_html(url, attrs={'class': 'wikitable'})[0]"
   ]
  },
  {
   "cell_type": "code",
   "execution_count": 6,
   "metadata": {},
   "outputs": [],
   "source": [
    "df.drop(columns=['Unnamed: 0'], inplace=True)\n",
    "df.rename(columns={'Neighborhoods': 'Neighborhood', \n",
    "           'Area (km2)[1]': 'Area', \n",
    "           'Pop. (2001)[1]': 'Population', \n",
    "           'Density (2001)[1]': 'Density'}, inplace=True)"
   ]
  },
  {
   "cell_type": "code",
   "execution_count": 7,
   "metadata": {},
   "outputs": [],
   "source": [
    "dictionary = {'š': 's', 'ė': 'e', 'č': 'c', 'ž': 'z', 'ū': 'u'}\n",
    "\n",
    "def replace_letters(st):\n",
    "    for old, new in dictionary.items():\n",
    "        st = st.lower().replace(old, new)\n",
    "    return string.capwords(st)"
   ]
  },
  {
   "cell_type": "code",
   "execution_count": 8,
   "metadata": {},
   "outputs": [],
   "source": [
    "df['Neighborhood'] = df['Neighborhood'].apply(replace_letters)"
   ]
  },
  {
   "cell_type": "markdown",
   "metadata": {},
   "source": [
    "### Neighborhoods data"
   ]
  },
  {
   "cell_type": "code",
   "execution_count": 9,
   "metadata": {},
   "outputs": [
    {
     "data": {
      "text/html": [
       "<div>\n",
       "<style scoped>\n",
       "    .dataframe tbody tr th:only-of-type {\n",
       "        vertical-align: middle;\n",
       "    }\n",
       "\n",
       "    .dataframe tbody tr th {\n",
       "        vertical-align: top;\n",
       "    }\n",
       "\n",
       "    .dataframe thead th {\n",
       "        text-align: right;\n",
       "    }\n",
       "</style>\n",
       "<table border=\"1\" class=\"dataframe\">\n",
       "  <thead>\n",
       "    <tr style=\"text-align: right;\">\n",
       "      <th></th>\n",
       "      <th>Neighborhood</th>\n",
       "      <th>Area</th>\n",
       "      <th>Population</th>\n",
       "      <th>Density</th>\n",
       "      <th>Latitude</th>\n",
       "      <th>Longitude</th>\n",
       "    </tr>\n",
       "  </thead>\n",
       "  <tbody>\n",
       "    <tr>\n",
       "      <th>0</th>\n",
       "      <td>Verkiai</td>\n",
       "      <td>56.0</td>\n",
       "      <td>30856</td>\n",
       "      <td>551.0</td>\n",
       "      <td>54.708707</td>\n",
       "      <td>25.284686</td>\n",
       "    </tr>\n",
       "    <tr>\n",
       "      <th>1</th>\n",
       "      <td>Antakalnis</td>\n",
       "      <td>77.2</td>\n",
       "      <td>39697</td>\n",
       "      <td>514.2</td>\n",
       "      <td>54.701126</td>\n",
       "      <td>25.308957</td>\n",
       "    </tr>\n",
       "    <tr>\n",
       "      <th>2</th>\n",
       "      <td>Pasilaiciai</td>\n",
       "      <td>7.9</td>\n",
       "      <td>25674</td>\n",
       "      <td>3249.9</td>\n",
       "      <td>54.725942</td>\n",
       "      <td>25.231328</td>\n",
       "    </tr>\n",
       "    <tr>\n",
       "      <th>3</th>\n",
       "      <td>Fabijoniskes</td>\n",
       "      <td>5.9</td>\n",
       "      <td>36644</td>\n",
       "      <td>6210.8</td>\n",
       "      <td>54.723397</td>\n",
       "      <td>25.249529</td>\n",
       "    </tr>\n",
       "    <tr>\n",
       "      <th>4</th>\n",
       "      <td>Pilaite</td>\n",
       "      <td>13.9</td>\n",
       "      <td>15996</td>\n",
       "      <td>1150.8</td>\n",
       "      <td>54.708126</td>\n",
       "      <td>25.175803</td>\n",
       "    </tr>\n",
       "    <tr>\n",
       "      <th>5</th>\n",
       "      <td>Justiniskes</td>\n",
       "      <td>3.0</td>\n",
       "      <td>30958</td>\n",
       "      <td>10319.3</td>\n",
       "      <td>54.717905</td>\n",
       "      <td>25.220236</td>\n",
       "    </tr>\n",
       "    <tr>\n",
       "      <th>6</th>\n",
       "      <td>Virsuliskes</td>\n",
       "      <td>2.6</td>\n",
       "      <td>16250</td>\n",
       "      <td>6250.0</td>\n",
       "      <td>54.717867</td>\n",
       "      <td>25.220222</td>\n",
       "    </tr>\n",
       "    <tr>\n",
       "      <th>7</th>\n",
       "      <td>Seskine</td>\n",
       "      <td>4.6</td>\n",
       "      <td>36604</td>\n",
       "      <td>7957.4</td>\n",
       "      <td>54.715694</td>\n",
       "      <td>25.244574</td>\n",
       "    </tr>\n",
       "    <tr>\n",
       "      <th>8</th>\n",
       "      <td>Snipiskes</td>\n",
       "      <td>3.1</td>\n",
       "      <td>19321</td>\n",
       "      <td>6232.6</td>\n",
       "      <td>54.692956</td>\n",
       "      <td>25.285007</td>\n",
       "    </tr>\n",
       "    <tr>\n",
       "      <th>9</th>\n",
       "      <td>Zirmunai</td>\n",
       "      <td>5.7</td>\n",
       "      <td>47410</td>\n",
       "      <td>8317.5</td>\n",
       "      <td>54.723249</td>\n",
       "      <td>25.297213</td>\n",
       "    </tr>\n",
       "    <tr>\n",
       "      <th>10</th>\n",
       "      <td>Karoliniskes</td>\n",
       "      <td>3.7</td>\n",
       "      <td>31175</td>\n",
       "      <td>8425.7</td>\n",
       "      <td>54.685131</td>\n",
       "      <td>25.205156</td>\n",
       "    </tr>\n",
       "    <tr>\n",
       "      <th>11</th>\n",
       "      <td>Zverynas</td>\n",
       "      <td>2.6</td>\n",
       "      <td>12188</td>\n",
       "      <td>4687.7</td>\n",
       "      <td>54.693353</td>\n",
       "      <td>25.250209</td>\n",
       "    </tr>\n",
       "    <tr>\n",
       "      <th>12</th>\n",
       "      <td>Grigiskes</td>\n",
       "      <td>7.0</td>\n",
       "      <td>11617</td>\n",
       "      <td>1659.6</td>\n",
       "      <td>54.676897</td>\n",
       "      <td>25.081592</td>\n",
       "    </tr>\n",
       "    <tr>\n",
       "      <th>13</th>\n",
       "      <td>Lazdynai</td>\n",
       "      <td>9.9</td>\n",
       "      <td>32164</td>\n",
       "      <td>3248.9</td>\n",
       "      <td>54.674992</td>\n",
       "      <td>25.202004</td>\n",
       "    </tr>\n",
       "    <tr>\n",
       "      <th>14</th>\n",
       "      <td>Vilkpede</td>\n",
       "      <td>10.8</td>\n",
       "      <td>24749</td>\n",
       "      <td>2291.6</td>\n",
       "      <td>54.671995</td>\n",
       "      <td>25.243926</td>\n",
       "    </tr>\n",
       "    <tr>\n",
       "      <th>15</th>\n",
       "      <td>Naujamiestis</td>\n",
       "      <td>4.9</td>\n",
       "      <td>27892</td>\n",
       "      <td>5692.2</td>\n",
       "      <td>54.685457</td>\n",
       "      <td>25.284650</td>\n",
       "    </tr>\n",
       "    <tr>\n",
       "      <th>16</th>\n",
       "      <td>Senamiestis</td>\n",
       "      <td>4.4</td>\n",
       "      <td>21022</td>\n",
       "      <td>4777.7</td>\n",
       "      <td>54.685443</td>\n",
       "      <td>25.284621</td>\n",
       "    </tr>\n",
       "    <tr>\n",
       "      <th>17</th>\n",
       "      <td>Naujoji Vilnia</td>\n",
       "      <td>38.6</td>\n",
       "      <td>32775</td>\n",
       "      <td>849.1</td>\n",
       "      <td>54.690446</td>\n",
       "      <td>25.412790</td>\n",
       "    </tr>\n",
       "    <tr>\n",
       "      <th>18</th>\n",
       "      <td>Paneriai</td>\n",
       "      <td>84.8</td>\n",
       "      <td>8909</td>\n",
       "      <td>105.1</td>\n",
       "      <td>54.630048</td>\n",
       "      <td>25.105357</td>\n",
       "    </tr>\n",
       "    <tr>\n",
       "      <th>19</th>\n",
       "      <td>Naujininkai</td>\n",
       "      <td>37.6</td>\n",
       "      <td>33457</td>\n",
       "      <td>889.8</td>\n",
       "      <td>54.660416</td>\n",
       "      <td>25.272415</td>\n",
       "    </tr>\n",
       "    <tr>\n",
       "      <th>20</th>\n",
       "      <td>Rasos</td>\n",
       "      <td>16.3</td>\n",
       "      <td>13054</td>\n",
       "      <td>800.9</td>\n",
       "      <td>54.677718</td>\n",
       "      <td>25.281702</td>\n",
       "    </tr>\n",
       "  </tbody>\n",
       "</table>\n",
       "</div>"
      ],
      "text/plain": [
       "      Neighborhood  Area  Population  Density   Latitude  Longitude\n",
       "0          Verkiai  56.0       30856    551.0  54.708707  25.284686\n",
       "1       Antakalnis  77.2       39697    514.2  54.701126  25.308957\n",
       "2      Pasilaiciai   7.9       25674   3249.9  54.725942  25.231328\n",
       "3     Fabijoniskes   5.9       36644   6210.8  54.723397  25.249529\n",
       "4          Pilaite  13.9       15996   1150.8  54.708126  25.175803\n",
       "5      Justiniskes   3.0       30958  10319.3  54.717905  25.220236\n",
       "6      Virsuliskes   2.6       16250   6250.0  54.717867  25.220222\n",
       "7          Seskine   4.6       36604   7957.4  54.715694  25.244574\n",
       "8        Snipiskes   3.1       19321   6232.6  54.692956  25.285007\n",
       "9         Zirmunai   5.7       47410   8317.5  54.723249  25.297213\n",
       "10    Karoliniskes   3.7       31175   8425.7  54.685131  25.205156\n",
       "11        Zverynas   2.6       12188   4687.7  54.693353  25.250209\n",
       "12       Grigiskes   7.0       11617   1659.6  54.676897  25.081592\n",
       "13        Lazdynai   9.9       32164   3248.9  54.674992  25.202004\n",
       "14        Vilkpede  10.8       24749   2291.6  54.671995  25.243926\n",
       "15    Naujamiestis   4.9       27892   5692.2  54.685457  25.284650\n",
       "16     Senamiestis   4.4       21022   4777.7  54.685443  25.284621\n",
       "17  Naujoji Vilnia  38.6       32775    849.1  54.690446  25.412790\n",
       "18        Paneriai  84.8        8909    105.1  54.630048  25.105357\n",
       "19     Naujininkai  37.6       33457    889.8  54.660416  25.272415\n",
       "20           Rasos  16.3       13054    800.9  54.677718  25.281702"
      ]
     },
     "execution_count": 9,
     "metadata": {},
     "output_type": "execute_result"
    }
   ],
   "source": [
    "df"
   ]
  },
  {
   "cell_type": "markdown",
   "metadata": {},
   "source": [
    "### Vilnius neighborhoods map"
   ]
  },
  {
   "cell_type": "code",
   "execution_count": 10,
   "metadata": {},
   "outputs": [],
   "source": [
    "VILNIUS_LOCATION = [54.683333, 25.283333]"
   ]
  },
  {
   "cell_type": "code",
   "execution_count": 69,
   "metadata": {},
   "outputs": [
    {
     "data": {
      "text/html": [
       "<div style=\"width:100%;\"><div style=\"position:relative;width:100%;height:0;padding-bottom:60%;\"><span style=\"color:#565656\">Make this Notebook Trusted to load map: File -> Trust Notebook</span><iframe src=\"about:blank\" style=\"position:absolute;width:100%;height:100%;left:0;top:0;border:none !important;\" data-html=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 onload=\"this.contentDocument.open();this.contentDocument.write(atob(this.getAttribute('data-html')));this.contentDocument.close();\" allowfullscreen webkitallowfullscreen mozallowfullscreen></iframe></div></div>"
      ],
      "text/plain": [
       "<folium.folium.Map at 0x7fba365f2f10>"
      ]
     },
     "execution_count": 69,
     "metadata": {},
     "output_type": "execute_result"
    }
   ],
   "source": [
    "mmap = folium.Map(location=VILNIUS_LOCATION, zoom_start=11)\n",
    "for (name, lat, lng) in zip(df['Neighborhood'], df['Latitude'], df['Longitude']):\n",
    "    folium.CircleMarker(\n",
    "        [lat, lng],\n",
    "        radius=7,\n",
    "        color='blue',\n",
    "        fill = True,\n",
    "        popup=name,\n",
    "        fill_color='blue'\n",
    "    ).add_to(mmap)\n",
    "mmap"
   ]
  },
  {
   "cell_type": "code",
   "execution_count": 12,
   "metadata": {},
   "outputs": [],
   "source": [
    "CLIENT_ID = '***' # your Foursquare ID\n",
    "CLIENT_SECRET = '***' # your Foursquare Secret"
   ]
  },
  {
   "cell_type": "code",
   "execution_count": 13,
   "metadata": {},
   "outputs": [],
   "source": [
    "client = foursquare.Foursquare(client_id=CLIENT_ID, client_secret=CLIENT_SECRET)"
   ]
  },
  {
   "cell_type": "code",
   "execution_count": 14,
   "metadata": {},
   "outputs": [],
   "source": [
    "def getNearbyVenues(names, latitudes, longitudes, areas, categories, radius=100, limit=100):\n",
    "    \n",
    "    venues_list=[]\n",
    "    for name, lat, lng, area in zip(names, latitudes, longitudes, areas):\n",
    "        rad = radius*np.sqrt(area)\n",
    "         \n",
    "        for cat in categories:\n",
    "            results = client.venues.explore(\n",
    "                params={'ll': '{}, {}'.format(lat, lng), 'radius': rad, \n",
    "                        'limit': limit, 'categoryId': cat})['groups'][0]['items']\n",
    "\n",
    "            venues_list.append([(\n",
    "                name, \n",
    "                lat, \n",
    "                lng, \n",
    "                v['venue']['name'], \n",
    "                v['venue']['location']['lat'], \n",
    "                v['venue']['location']['lng'],  \n",
    "                v['venue']['categories'][0]['name'] if v['venue']['categories'] else np.nan) for v in results])\n",
    "\n",
    "    nearby_venues = pd.DataFrame([item for venue_list in venues_list for item in venue_list])\n",
    "    nearby_venues.columns = ['Neighborhood', \n",
    "                  'Neighborhood Latitude', \n",
    "                  'Neighborhood Longitude', \n",
    "                  'Venue', \n",
    "                  'Venue Latitude', \n",
    "                  'Venue Longitude', \n",
    "                  'Venue Category']\n",
    "    \n",
    "    \n",
    "    return nearby_venues"
   ]
  },
  {
   "cell_type": "markdown",
   "metadata": {},
   "source": [
    "###  Getting beer bars and stores locations"
   ]
  },
  {
   "cell_type": "code",
   "execution_count": 15,
   "metadata": {},
   "outputs": [],
   "source": [
    "bar_categories = ['5370f356bcbc57f1066c94c2', '56aa371ce4b08b9a8d57356c', '4bf58dd8d48988d11b941735']\n",
    "bars = getNearbyVenues(names=df['Neighborhood'],\n",
    "                         latitudes=df['Latitude'],\n",
    "                         longitudes=df['Longitude'], areas=df['Area'], categories=bar_categories)"
   ]
  },
  {
   "cell_type": "code",
   "execution_count": 16,
   "metadata": {
    "scrolled": false
   },
   "outputs": [],
   "source": [
    "bars.drop_duplicates(inplace=True)\n",
    "bars.reset_index(drop=True, inplace=True)\n",
    "bars['Venue Category'] = 'Bar'"
   ]
  },
  {
   "cell_type": "code",
   "execution_count": 61,
   "metadata": {
    "scrolled": true
   },
   "outputs": [
    {
     "data": {
      "text/html": [
       "<div>\n",
       "<style scoped>\n",
       "    .dataframe tbody tr th:only-of-type {\n",
       "        vertical-align: middle;\n",
       "    }\n",
       "\n",
       "    .dataframe tbody tr th {\n",
       "        vertical-align: top;\n",
       "    }\n",
       "\n",
       "    .dataframe thead th {\n",
       "        text-align: right;\n",
       "    }\n",
       "</style>\n",
       "<table border=\"1\" class=\"dataframe\">\n",
       "  <thead>\n",
       "    <tr style=\"text-align: right;\">\n",
       "      <th></th>\n",
       "      <th>Neighborhood</th>\n",
       "      <th>Neighborhood Latitude</th>\n",
       "      <th>Neighborhood Longitude</th>\n",
       "      <th>Venue</th>\n",
       "      <th>Venue Latitude</th>\n",
       "      <th>Venue Longitude</th>\n",
       "      <th>Venue Category</th>\n",
       "    </tr>\n",
       "  </thead>\n",
       "  <tbody>\n",
       "    <tr>\n",
       "      <th>0</th>\n",
       "      <td>Verkiai</td>\n",
       "      <td>54.708707</td>\n",
       "      <td>25.284686</td>\n",
       "      <td>Alynas Beershop</td>\n",
       "      <td>54.709580</td>\n",
       "      <td>25.292089</td>\n",
       "      <td>Bar</td>\n",
       "    </tr>\n",
       "    <tr>\n",
       "      <th>1</th>\n",
       "      <td>Verkiai</td>\n",
       "      <td>54.708707</td>\n",
       "      <td>25.284686</td>\n",
       "      <td>Vilniaus Alus</td>\n",
       "      <td>54.702570</td>\n",
       "      <td>25.288155</td>\n",
       "      <td>Bar</td>\n",
       "    </tr>\n",
       "    <tr>\n",
       "      <th>2</th>\n",
       "      <td>Verkiai</td>\n",
       "      <td>54.708707</td>\n",
       "      <td>25.284686</td>\n",
       "      <td>Alaus studija</td>\n",
       "      <td>54.707954</td>\n",
       "      <td>25.295803</td>\n",
       "      <td>Bar</td>\n",
       "    </tr>\n",
       "    <tr>\n",
       "      <th>3</th>\n",
       "      <td>Verkiai</td>\n",
       "      <td>54.708707</td>\n",
       "      <td>25.284686</td>\n",
       "      <td>Alaus studija</td>\n",
       "      <td>54.707954</td>\n",
       "      <td>25.295803</td>\n",
       "      <td>Bar</td>\n",
       "    </tr>\n",
       "    <tr>\n",
       "      <th>4</th>\n",
       "      <td>Verkiai</td>\n",
       "      <td>54.708707</td>\n",
       "      <td>25.284686</td>\n",
       "      <td>Restoranas \"Fortas\"</td>\n",
       "      <td>54.708429</td>\n",
       "      <td>25.290552</td>\n",
       "      <td>Bar</td>\n",
       "    </tr>\n",
       "  </tbody>\n",
       "</table>\n",
       "</div>"
      ],
      "text/plain": [
       "  Neighborhood  Neighborhood Latitude  Neighborhood Longitude  \\\n",
       "0      Verkiai              54.708707               25.284686   \n",
       "1      Verkiai              54.708707               25.284686   \n",
       "2      Verkiai              54.708707               25.284686   \n",
       "3      Verkiai              54.708707               25.284686   \n",
       "4      Verkiai              54.708707               25.284686   \n",
       "\n",
       "                 Venue  Venue Latitude  Venue Longitude Venue Category  \n",
       "0      Alynas Beershop       54.709580        25.292089            Bar  \n",
       "1        Vilniaus Alus       54.702570        25.288155            Bar  \n",
       "2        Alaus studija       54.707954        25.295803            Bar  \n",
       "3        Alaus studija       54.707954        25.295803            Bar  \n",
       "4  Restoranas \"Fortas\"       54.708429        25.290552            Bar  "
      ]
     },
     "execution_count": 61,
     "metadata": {},
     "output_type": "execute_result"
    }
   ],
   "source": [
    "bars.head()"
   ]
  },
  {
   "cell_type": "markdown",
   "metadata": {},
   "source": [
    "### Number of bars in neighborhoods"
   ]
  },
  {
   "cell_type": "code",
   "execution_count": 18,
   "metadata": {},
   "outputs": [
    {
     "data": {
      "text/html": [
       "<div>\n",
       "<style scoped>\n",
       "    .dataframe tbody tr th:only-of-type {\n",
       "        vertical-align: middle;\n",
       "    }\n",
       "\n",
       "    .dataframe tbody tr th {\n",
       "        vertical-align: top;\n",
       "    }\n",
       "\n",
       "    .dataframe thead th {\n",
       "        text-align: right;\n",
       "    }\n",
       "</style>\n",
       "<table border=\"1\" class=\"dataframe\">\n",
       "  <thead>\n",
       "    <tr style=\"text-align: right;\">\n",
       "      <th></th>\n",
       "      <th>Neighborhood</th>\n",
       "    </tr>\n",
       "    <tr>\n",
       "      <th>Neighborhood</th>\n",
       "      <th></th>\n",
       "    </tr>\n",
       "  </thead>\n",
       "  <tbody>\n",
       "    <tr>\n",
       "      <th>Karoliniskes</th>\n",
       "      <td>1</td>\n",
       "    </tr>\n",
       "    <tr>\n",
       "      <th>Naujamiestis</th>\n",
       "      <td>3</td>\n",
       "    </tr>\n",
       "    <tr>\n",
       "      <th>Rasos</th>\n",
       "      <td>18</td>\n",
       "    </tr>\n",
       "    <tr>\n",
       "      <th>Senamiestis</th>\n",
       "      <td>3</td>\n",
       "    </tr>\n",
       "    <tr>\n",
       "      <th>Verkiai</th>\n",
       "      <td>7</td>\n",
       "    </tr>\n",
       "  </tbody>\n",
       "</table>\n",
       "</div>"
      ],
      "text/plain": [
       "              Neighborhood\n",
       "Neighborhood              \n",
       "Karoliniskes             1\n",
       "Naujamiestis             3\n",
       "Rasos                   18\n",
       "Senamiestis              3\n",
       "Verkiai                  7"
      ]
     },
     "execution_count": 18,
     "metadata": {},
     "output_type": "execute_result"
    }
   ],
   "source": [
    "bars.groupby('Neighborhood')['Neighborhood'].count().to_frame()"
   ]
  },
  {
   "cell_type": "markdown",
   "metadata": {},
   "source": [
    "### Getting parkings locations"
   ]
  },
  {
   "cell_type": "code",
   "execution_count": 19,
   "metadata": {},
   "outputs": [],
   "source": [
    "parking_categories = ['4c38df4de52ce0d596b336e1', '4bf58dd8d48988d1fd941735']\n",
    "parkings = getNearbyVenues(names=df['Neighborhood'],\n",
    "                         latitudes=df['Latitude'],\n",
    "                         longitudes=df['Longitude'], areas=df['Area'], categories=parking_categories, radius=150)"
   ]
  },
  {
   "cell_type": "code",
   "execution_count": 20,
   "metadata": {},
   "outputs": [],
   "source": [
    "parkings.drop_duplicates(inplace=True)\n",
    "parkings.reset_index(drop=True, inplace=True)\n",
    "parkings['Venue Category'] = 'Parking'"
   ]
  },
  {
   "cell_type": "code",
   "execution_count": 21,
   "metadata": {},
   "outputs": [
    {
     "data": {
      "text/html": [
       "<div>\n",
       "<style scoped>\n",
       "    .dataframe tbody tr th:only-of-type {\n",
       "        vertical-align: middle;\n",
       "    }\n",
       "\n",
       "    .dataframe tbody tr th {\n",
       "        vertical-align: top;\n",
       "    }\n",
       "\n",
       "    .dataframe thead th {\n",
       "        text-align: right;\n",
       "    }\n",
       "</style>\n",
       "<table border=\"1\" class=\"dataframe\">\n",
       "  <thead>\n",
       "    <tr style=\"text-align: right;\">\n",
       "      <th></th>\n",
       "      <th>Neighborhood</th>\n",
       "      <th>Neighborhood Latitude</th>\n",
       "      <th>Neighborhood Longitude</th>\n",
       "      <th>Venue</th>\n",
       "      <th>Venue Latitude</th>\n",
       "      <th>Venue Longitude</th>\n",
       "      <th>Venue Category</th>\n",
       "    </tr>\n",
       "  </thead>\n",
       "  <tbody>\n",
       "    <tr>\n",
       "      <th>0</th>\n",
       "      <td>Verkiai</td>\n",
       "      <td>54.708707</td>\n",
       "      <td>25.284686</td>\n",
       "      <td>Siemens arenos parkingas</td>\n",
       "      <td>54.715505</td>\n",
       "      <td>25.283837</td>\n",
       "      <td>Parking</td>\n",
       "    </tr>\n",
       "    <tr>\n",
       "      <th>1</th>\n",
       "      <td>Verkiai</td>\n",
       "      <td>54.708707</td>\n",
       "      <td>25.284686</td>\n",
       "      <td>Giedraičių gatve 85</td>\n",
       "      <td>54.709496</td>\n",
       "      <td>25.281382</td>\n",
       "      <td>Parking</td>\n",
       "    </tr>\n",
       "    <tr>\n",
       "      <th>2</th>\n",
       "      <td>Verkiai</td>\n",
       "      <td>54.708707</td>\n",
       "      <td>25.284686</td>\n",
       "      <td>Ozas</td>\n",
       "      <td>54.714406</td>\n",
       "      <td>25.274469</td>\n",
       "      <td>Parking</td>\n",
       "    </tr>\n",
       "    <tr>\n",
       "      <th>3</th>\n",
       "      <td>Verkiai</td>\n",
       "      <td>54.708707</td>\n",
       "      <td>25.284686</td>\n",
       "      <td>AltSpace</td>\n",
       "      <td>54.714499</td>\n",
       "      <td>25.296090</td>\n",
       "      <td>Parking</td>\n",
       "    </tr>\n",
       "    <tr>\n",
       "      <th>4</th>\n",
       "      <td>Verkiai</td>\n",
       "      <td>54.708707</td>\n",
       "      <td>25.284686</td>\n",
       "      <td>LP EXPRESS</td>\n",
       "      <td>54.712988</td>\n",
       "      <td>25.297921</td>\n",
       "      <td>Parking</td>\n",
       "    </tr>\n",
       "  </tbody>\n",
       "</table>\n",
       "</div>"
      ],
      "text/plain": [
       "  Neighborhood  Neighborhood Latitude  Neighborhood Longitude  \\\n",
       "0      Verkiai              54.708707               25.284686   \n",
       "1      Verkiai              54.708707               25.284686   \n",
       "2      Verkiai              54.708707               25.284686   \n",
       "3      Verkiai              54.708707               25.284686   \n",
       "4      Verkiai              54.708707               25.284686   \n",
       "\n",
       "                      Venue  Venue Latitude  Venue Longitude Venue Category  \n",
       "0  Siemens arenos parkingas       54.715505        25.283837        Parking  \n",
       "1       Giedraičių gatve 85       54.709496        25.281382        Parking  \n",
       "2                      Ozas       54.714406        25.274469        Parking  \n",
       "3                  AltSpace       54.714499        25.296090        Parking  \n",
       "4                LP EXPRESS       54.712988        25.297921        Parking  "
      ]
     },
     "execution_count": 21,
     "metadata": {},
     "output_type": "execute_result"
    }
   ],
   "source": [
    "parkings.head()"
   ]
  },
  {
   "cell_type": "markdown",
   "metadata": {},
   "source": [
    "### Getting 'bad neighbors'\n",
    "As 'bad neighbors' I'm going to use police stations, schools, churches, adult stores, etc."
   ]
  },
  {
   "cell_type": "code",
   "execution_count": 22,
   "metadata": {},
   "outputs": [],
   "source": [
    "bad_venues_categories = ['4bf58dd8d48988d12e941735', '4f4533804b9074f6e4fb0105', \n",
    "                         '5267e446e4b0ec79466e48c4', '52f2ab2ebcbc57f1066b8b32', \n",
    "                         '4f4533814b9074f6e4fb0106', '4bf58dd8d48988d131941735',\n",
    "                         '4d954b06a243a5684965b473', '52f2ab2ebcbc57f1066b8b34']\n",
    "bad_venues = getNearbyVenues(names=df['Neighborhood'],\n",
    "                         latitudes=df['Latitude'],\n",
    "                         longitudes=df['Longitude'], areas=df['Area'], categories=bad_venues_categories, radius=150)"
   ]
  },
  {
   "cell_type": "code",
   "execution_count": 23,
   "metadata": {},
   "outputs": [],
   "source": [
    "bad_venues.drop_duplicates(inplace=True)\n",
    "bad_venues.reset_index(drop=True, inplace=True)\n",
    "bad_venues['Venue Category'] = 'Bad neighbors'"
   ]
  },
  {
   "cell_type": "code",
   "execution_count": 24,
   "metadata": {},
   "outputs": [
    {
     "data": {
      "text/html": [
       "<div>\n",
       "<style scoped>\n",
       "    .dataframe tbody tr th:only-of-type {\n",
       "        vertical-align: middle;\n",
       "    }\n",
       "\n",
       "    .dataframe tbody tr th {\n",
       "        vertical-align: top;\n",
       "    }\n",
       "\n",
       "    .dataframe thead th {\n",
       "        text-align: right;\n",
       "    }\n",
       "</style>\n",
       "<table border=\"1\" class=\"dataframe\">\n",
       "  <thead>\n",
       "    <tr style=\"text-align: right;\">\n",
       "      <th></th>\n",
       "      <th>Neighborhood</th>\n",
       "      <th>Neighborhood Latitude</th>\n",
       "      <th>Neighborhood Longitude</th>\n",
       "      <th>Venue</th>\n",
       "      <th>Venue Latitude</th>\n",
       "      <th>Venue Longitude</th>\n",
       "      <th>Venue Category</th>\n",
       "    </tr>\n",
       "  </thead>\n",
       "  <tbody>\n",
       "    <tr>\n",
       "      <th>0</th>\n",
       "      <td>Verkiai</td>\n",
       "      <td>54.708707</td>\n",
       "      <td>25.284686</td>\n",
       "      <td>Ekologijos ir Teisės Pažeidimų Prevencinis Sky...</td>\n",
       "      <td>54.704862</td>\n",
       "      <td>25.285691</td>\n",
       "      <td>Bad neighbors</td>\n",
       "    </tr>\n",
       "    <tr>\n",
       "      <th>1</th>\n",
       "      <td>Verkiai</td>\n",
       "      <td>54.708707</td>\n",
       "      <td>25.284686</td>\n",
       "      <td>Policijos Komisariatas</td>\n",
       "      <td>54.716542</td>\n",
       "      <td>25.294486</td>\n",
       "      <td>Bad neighbors</td>\n",
       "    </tr>\n",
       "    <tr>\n",
       "      <th>2</th>\n",
       "      <td>Verkiai</td>\n",
       "      <td>54.708707</td>\n",
       "      <td>25.284686</td>\n",
       "      <td>Kristoforo Progimnazija</td>\n",
       "      <td>54.706019</td>\n",
       "      <td>25.285463</td>\n",
       "      <td>Bad neighbors</td>\n",
       "    </tr>\n",
       "    <tr>\n",
       "      <th>3</th>\n",
       "      <td>Verkiai</td>\n",
       "      <td>54.708707</td>\n",
       "      <td>25.284686</td>\n",
       "      <td>Autoklase @ Kalvarijų g.</td>\n",
       "      <td>54.711543</td>\n",
       "      <td>25.286017</td>\n",
       "      <td>Bad neighbors</td>\n",
       "    </tr>\n",
       "    <tr>\n",
       "      <th>4</th>\n",
       "      <td>Verkiai</td>\n",
       "      <td>54.708707</td>\n",
       "      <td>25.284686</td>\n",
       "      <td>Šiaurės licėjus</td>\n",
       "      <td>54.704656</td>\n",
       "      <td>25.277685</td>\n",
       "      <td>Bad neighbors</td>\n",
       "    </tr>\n",
       "  </tbody>\n",
       "</table>\n",
       "</div>"
      ],
      "text/plain": [
       "  Neighborhood  Neighborhood Latitude  Neighborhood Longitude  \\\n",
       "0      Verkiai              54.708707               25.284686   \n",
       "1      Verkiai              54.708707               25.284686   \n",
       "2      Verkiai              54.708707               25.284686   \n",
       "3      Verkiai              54.708707               25.284686   \n",
       "4      Verkiai              54.708707               25.284686   \n",
       "\n",
       "                                               Venue  Venue Latitude  \\\n",
       "0  Ekologijos ir Teisės Pažeidimų Prevencinis Sky...       54.704862   \n",
       "1                             Policijos Komisariatas       54.716542   \n",
       "2                            Kristoforo Progimnazija       54.706019   \n",
       "3                           Autoklase @ Kalvarijų g.       54.711543   \n",
       "4                                    Šiaurės licėjus       54.704656   \n",
       "\n",
       "   Venue Longitude Venue Category  \n",
       "0        25.285691  Bad neighbors  \n",
       "1        25.294486  Bad neighbors  \n",
       "2        25.285463  Bad neighbors  \n",
       "3        25.286017  Bad neighbors  \n",
       "4        25.277685  Bad neighbors  "
      ]
     },
     "execution_count": 24,
     "metadata": {},
     "output_type": "execute_result"
    }
   ],
   "source": [
    "bad_venues.head()"
   ]
  },
  {
   "cell_type": "markdown",
   "metadata": {},
   "source": [
    "### Getting public transport"
   ]
  },
  {
   "cell_type": "code",
   "execution_count": 25,
   "metadata": {},
   "outputs": [],
   "source": [
    "transport_categories = ['52f2ab2ebcbc57f1066b8b4f', '4bf58dd8d48988d1fe931735',\n",
    "                        '52f2ab2ebcbc57f1066b8b50', '4bf58dd8d48988d1fc931735', \n",
    "                        '53fca564498e1a175f32528b', '52f2ab2ebcbc57f1066b8b51']\n",
    "transport = getNearbyVenues(names=df['Neighborhood'],\n",
    "                         latitudes=df['Latitude'],\n",
    "                         longitudes=df['Longitude'], areas=df['Area'], categories=transport_categories, radius=150)"
   ]
  },
  {
   "cell_type": "code",
   "execution_count": 26,
   "metadata": {},
   "outputs": [],
   "source": [
    "transport.drop_duplicates(inplace=True)\n",
    "transport.reset_index(drop=True, inplace=True)\n",
    "transport['Venue Category'] = 'Transport'"
   ]
  },
  {
   "cell_type": "code",
   "execution_count": 27,
   "metadata": {},
   "outputs": [
    {
     "data": {
      "text/html": [
       "<div>\n",
       "<style scoped>\n",
       "    .dataframe tbody tr th:only-of-type {\n",
       "        vertical-align: middle;\n",
       "    }\n",
       "\n",
       "    .dataframe tbody tr th {\n",
       "        vertical-align: top;\n",
       "    }\n",
       "\n",
       "    .dataframe thead th {\n",
       "        text-align: right;\n",
       "    }\n",
       "</style>\n",
       "<table border=\"1\" class=\"dataframe\">\n",
       "  <thead>\n",
       "    <tr style=\"text-align: right;\">\n",
       "      <th></th>\n",
       "      <th>Neighborhood</th>\n",
       "      <th>Neighborhood Latitude</th>\n",
       "      <th>Neighborhood Longitude</th>\n",
       "      <th>Venue</th>\n",
       "      <th>Venue Latitude</th>\n",
       "      <th>Venue Longitude</th>\n",
       "      <th>Venue Category</th>\n",
       "    </tr>\n",
       "  </thead>\n",
       "  <tbody>\n",
       "    <tr>\n",
       "      <th>0</th>\n",
       "      <td>Verkiai</td>\n",
       "      <td>54.708707</td>\n",
       "      <td>25.284686</td>\n",
       "      <td>Giedraičių stotelė</td>\n",
       "      <td>54.707620</td>\n",
       "      <td>25.285157</td>\n",
       "      <td>Transport</td>\n",
       "    </tr>\n",
       "    <tr>\n",
       "      <th>1</th>\n",
       "      <td>Verkiai</td>\n",
       "      <td>54.708707</td>\n",
       "      <td>25.284686</td>\n",
       "      <td>Žalgirio stotelė</td>\n",
       "      <td>54.703276</td>\n",
       "      <td>25.283533</td>\n",
       "      <td>Transport</td>\n",
       "    </tr>\n",
       "    <tr>\n",
       "      <th>2</th>\n",
       "      <td>Verkiai</td>\n",
       "      <td>54.708707</td>\n",
       "      <td>25.284686</td>\n",
       "      <td>Pramogų arena</td>\n",
       "      <td>54.715115</td>\n",
       "      <td>25.287114</td>\n",
       "      <td>Transport</td>\n",
       "    </tr>\n",
       "    <tr>\n",
       "      <th>3</th>\n",
       "      <td>Verkiai</td>\n",
       "      <td>54.708707</td>\n",
       "      <td>25.284686</td>\n",
       "      <td>Kalvarijų turgus st.</td>\n",
       "      <td>54.700067</td>\n",
       "      <td>25.282894</td>\n",
       "      <td>Transport</td>\n",
       "    </tr>\n",
       "    <tr>\n",
       "      <th>4</th>\n",
       "      <td>Verkiai</td>\n",
       "      <td>54.708707</td>\n",
       "      <td>25.284686</td>\n",
       "      <td>Linkmenų st.</td>\n",
       "      <td>54.704484</td>\n",
       "      <td>25.271312</td>\n",
       "      <td>Transport</td>\n",
       "    </tr>\n",
       "  </tbody>\n",
       "</table>\n",
       "</div>"
      ],
      "text/plain": [
       "  Neighborhood  Neighborhood Latitude  Neighborhood Longitude  \\\n",
       "0      Verkiai              54.708707               25.284686   \n",
       "1      Verkiai              54.708707               25.284686   \n",
       "2      Verkiai              54.708707               25.284686   \n",
       "3      Verkiai              54.708707               25.284686   \n",
       "4      Verkiai              54.708707               25.284686   \n",
       "\n",
       "                  Venue  Venue Latitude  Venue Longitude Venue Category  \n",
       "0    Giedraičių stotelė       54.707620        25.285157      Transport  \n",
       "1      Žalgirio stotelė       54.703276        25.283533      Transport  \n",
       "2         Pramogų arena       54.715115        25.287114      Transport  \n",
       "3  Kalvarijų turgus st.       54.700067        25.282894      Transport  \n",
       "4          Linkmenų st.       54.704484        25.271312      Transport  "
      ]
     },
     "execution_count": 27,
     "metadata": {},
     "output_type": "execute_result"
    }
   ],
   "source": [
    "transport.head()"
   ]
  },
  {
   "cell_type": "markdown",
   "metadata": {},
   "source": [
    "### Merging all together"
   ]
  },
  {
   "cell_type": "code",
   "execution_count": 28,
   "metadata": {},
   "outputs": [],
   "source": [
    "data = pd.concat([bars, transport, parkings, bad_venues])\n",
    "data.reset_index(drop=True, inplace=True)"
   ]
  },
  {
   "cell_type": "code",
   "execution_count": 29,
   "metadata": {},
   "outputs": [
    {
     "data": {
      "text/html": [
       "<div>\n",
       "<style scoped>\n",
       "    .dataframe tbody tr th:only-of-type {\n",
       "        vertical-align: middle;\n",
       "    }\n",
       "\n",
       "    .dataframe tbody tr th {\n",
       "        vertical-align: top;\n",
       "    }\n",
       "\n",
       "    .dataframe thead th {\n",
       "        text-align: right;\n",
       "    }\n",
       "</style>\n",
       "<table border=\"1\" class=\"dataframe\">\n",
       "  <thead>\n",
       "    <tr style=\"text-align: right;\">\n",
       "      <th></th>\n",
       "      <th>Neighborhood</th>\n",
       "      <th>Neighborhood Latitude</th>\n",
       "      <th>Neighborhood Longitude</th>\n",
       "      <th>Venue</th>\n",
       "      <th>Venue Latitude</th>\n",
       "      <th>Venue Longitude</th>\n",
       "      <th>Venue Category</th>\n",
       "    </tr>\n",
       "  </thead>\n",
       "  <tbody>\n",
       "    <tr>\n",
       "      <th>0</th>\n",
       "      <td>Verkiai</td>\n",
       "      <td>54.708707</td>\n",
       "      <td>25.284686</td>\n",
       "      <td>Alynas Beershop</td>\n",
       "      <td>54.709580</td>\n",
       "      <td>25.292089</td>\n",
       "      <td>Bar</td>\n",
       "    </tr>\n",
       "    <tr>\n",
       "      <th>1</th>\n",
       "      <td>Verkiai</td>\n",
       "      <td>54.708707</td>\n",
       "      <td>25.284686</td>\n",
       "      <td>Vilniaus Alus</td>\n",
       "      <td>54.702570</td>\n",
       "      <td>25.288155</td>\n",
       "      <td>Bar</td>\n",
       "    </tr>\n",
       "    <tr>\n",
       "      <th>2</th>\n",
       "      <td>Verkiai</td>\n",
       "      <td>54.708707</td>\n",
       "      <td>25.284686</td>\n",
       "      <td>Alaus studija</td>\n",
       "      <td>54.707954</td>\n",
       "      <td>25.295803</td>\n",
       "      <td>Bar</td>\n",
       "    </tr>\n",
       "    <tr>\n",
       "      <th>3</th>\n",
       "      <td>Verkiai</td>\n",
       "      <td>54.708707</td>\n",
       "      <td>25.284686</td>\n",
       "      <td>Alaus studija</td>\n",
       "      <td>54.707954</td>\n",
       "      <td>25.295803</td>\n",
       "      <td>Bar</td>\n",
       "    </tr>\n",
       "    <tr>\n",
       "      <th>4</th>\n",
       "      <td>Verkiai</td>\n",
       "      <td>54.708707</td>\n",
       "      <td>25.284686</td>\n",
       "      <td>Restoranas \"Fortas\"</td>\n",
       "      <td>54.708429</td>\n",
       "      <td>25.290552</td>\n",
       "      <td>Bar</td>\n",
       "    </tr>\n",
       "    <tr>\n",
       "      <th>...</th>\n",
       "      <td>...</td>\n",
       "      <td>...</td>\n",
       "      <td>...</td>\n",
       "      <td>...</td>\n",
       "      <td>...</td>\n",
       "      <td>...</td>\n",
       "      <td>...</td>\n",
       "    </tr>\n",
       "    <tr>\n",
       "      <th>289</th>\n",
       "      <td>Rasos</td>\n",
       "      <td>54.677718</td>\n",
       "      <td>25.281702</td>\n",
       "      <td>Vilniaus choraline Sinagoga</td>\n",
       "      <td>54.676064</td>\n",
       "      <td>25.281551</td>\n",
       "      <td>Bad neighbors</td>\n",
       "    </tr>\n",
       "    <tr>\n",
       "      <th>290</th>\n",
       "      <td>Rasos</td>\n",
       "      <td>54.677718</td>\n",
       "      <td>25.281702</td>\n",
       "      <td>Rentida Apartamentas</td>\n",
       "      <td>54.678967</td>\n",
       "      <td>25.283035</td>\n",
       "      <td>Bad neighbors</td>\n",
       "    </tr>\n",
       "    <tr>\n",
       "      <th>291</th>\n",
       "      <td>Rasos</td>\n",
       "      <td>54.677718</td>\n",
       "      <td>25.281702</td>\n",
       "      <td>Real House Apartments</td>\n",
       "      <td>54.676880</td>\n",
       "      <td>25.283379</td>\n",
       "      <td>Bad neighbors</td>\n",
       "    </tr>\n",
       "    <tr>\n",
       "      <th>292</th>\n",
       "      <td>Rasos</td>\n",
       "      <td>54.677718</td>\n",
       "      <td>25.281702</td>\n",
       "      <td>Šaltinių namai</td>\n",
       "      <td>54.675415</td>\n",
       "      <td>25.277725</td>\n",
       "      <td>Bad neighbors</td>\n",
       "    </tr>\n",
       "    <tr>\n",
       "      <th>293</th>\n",
       "      <td>Rasos</td>\n",
       "      <td>54.677718</td>\n",
       "      <td>25.281702</td>\n",
       "      <td>Didžioji 10</td>\n",
       "      <td>54.680033</td>\n",
       "      <td>25.288692</td>\n",
       "      <td>Bad neighbors</td>\n",
       "    </tr>\n",
       "  </tbody>\n",
       "</table>\n",
       "<p>294 rows × 7 columns</p>\n",
       "</div>"
      ],
      "text/plain": [
       "    Neighborhood  Neighborhood Latitude  Neighborhood Longitude  \\\n",
       "0        Verkiai              54.708707               25.284686   \n",
       "1        Verkiai              54.708707               25.284686   \n",
       "2        Verkiai              54.708707               25.284686   \n",
       "3        Verkiai              54.708707               25.284686   \n",
       "4        Verkiai              54.708707               25.284686   \n",
       "..           ...                    ...                     ...   \n",
       "289        Rasos              54.677718               25.281702   \n",
       "290        Rasos              54.677718               25.281702   \n",
       "291        Rasos              54.677718               25.281702   \n",
       "292        Rasos              54.677718               25.281702   \n",
       "293        Rasos              54.677718               25.281702   \n",
       "\n",
       "                           Venue  Venue Latitude  Venue Longitude  \\\n",
       "0                Alynas Beershop       54.709580        25.292089   \n",
       "1                  Vilniaus Alus       54.702570        25.288155   \n",
       "2                  Alaus studija       54.707954        25.295803   \n",
       "3                  Alaus studija       54.707954        25.295803   \n",
       "4            Restoranas \"Fortas\"       54.708429        25.290552   \n",
       "..                           ...             ...              ...   \n",
       "289  Vilniaus choraline Sinagoga       54.676064        25.281551   \n",
       "290         Rentida Apartamentas       54.678967        25.283035   \n",
       "291        Real House Apartments       54.676880        25.283379   \n",
       "292               Šaltinių namai       54.675415        25.277725   \n",
       "293                  Didžioji 10       54.680033        25.288692   \n",
       "\n",
       "    Venue Category  \n",
       "0              Bar  \n",
       "1              Bar  \n",
       "2              Bar  \n",
       "3              Bar  \n",
       "4              Bar  \n",
       "..             ...  \n",
       "289  Bad neighbors  \n",
       "290  Bad neighbors  \n",
       "291  Bad neighbors  \n",
       "292  Bad neighbors  \n",
       "293  Bad neighbors  \n",
       "\n",
       "[294 rows x 7 columns]"
      ]
     },
     "execution_count": 29,
     "metadata": {},
     "output_type": "execute_result"
    }
   ],
   "source": [
    "data"
   ]
  },
  {
   "cell_type": "code",
   "execution_count": 30,
   "metadata": {},
   "outputs": [],
   "source": [
    "# one hot encoding\n",
    "onehot = pd.get_dummies(data[['Venue Category']], prefix=\"\", prefix_sep=\"\")\n",
    "\n",
    "# add neighborhood column back to dataframe\n",
    "onehot['Neighborhood'] = data['Neighborhood'] \n",
    "\n",
    "# move neighborhood column to the first column\n",
    "fixed_columns = [onehot.columns[-1]] + list(onehot.columns[:-1])\n",
    "onehot = onehot[fixed_columns]"
   ]
  },
  {
   "cell_type": "code",
   "execution_count": 31,
   "metadata": {},
   "outputs": [],
   "source": [
    "grouped = onehot.groupby('Neighborhood').mean().reset_index()"
   ]
  },
  {
   "cell_type": "markdown",
   "metadata": {},
   "source": [
    "### Clustering\n",
    "Let's use **\"elbow method\"** to find optimal k value."
   ]
  },
  {
   "cell_type": "code",
   "execution_count": 33,
   "metadata": {},
   "outputs": [],
   "source": [
    "grouped_clustering = grouped.drop(columns=['Neighborhood'])"
   ]
  },
  {
   "cell_type": "code",
   "execution_count": 35,
   "metadata": {},
   "outputs": [],
   "source": [
    "def elbow(X):\n",
    "    distortions = [] \n",
    "    inertias = [] \n",
    "    mapping1 = {} \n",
    "    mapping2 = {} \n",
    "    K = range(1,10) \n",
    "\n",
    "    for k in K: \n",
    "        #Building and fitting the model \n",
    "        kmeanModel = KMeans(n_clusters=k).fit(X) \n",
    "        kmeanModel.fit(X)     \n",
    "\n",
    "        distortions.append(sum(np.min(cdist(X, kmeanModel.cluster_centers_, \n",
    "                          'euclidean'),axis=1)) / X.shape[0]) \n",
    "        inertias.append(kmeanModel.inertia_) \n",
    "\n",
    "        mapping1[k] = sum(np.min(cdist(X, kmeanModel.cluster_centers_, \n",
    "                     'euclidean'),axis=1)) / X.shape[0] \n",
    "        mapping2[k] = kmeanModel.inertia_ \n",
    "    return (mapping1, mapping2)"
   ]
  },
  {
   "cell_type": "code",
   "execution_count": 38,
   "metadata": {},
   "outputs": [],
   "source": [
    "dist, inert = elbow(grouped_clustering)"
   ]
  },
  {
   "cell_type": "code",
   "execution_count": 49,
   "metadata": {},
   "outputs": [
    {
     "data": {
      "image/png": "[encoded data removed]",
      "text/plain": [
       "<Figure size 432x288 with 1 Axes>"
      ]
     },
     "metadata": {
      "needs_background": "light"
     },
     "output_type": "display_data"
    }
   ],
   "source": [
    "plt.plot(inert.keys(), inert.values(), 'x-')\n",
    "plt.xlabel('K')\n",
    "plt.ylabel('Inertia')\n",
    "plt.suptitle('Elbow method using Inertia')\n",
    "plt.show()"
   ]
  },
  {
   "cell_type": "code",
   "execution_count": 52,
   "metadata": {},
   "outputs": [
    {
     "data": {
      "image/png": "[encoded data removed]",
      "text/plain": [
       "<Figure size 432x288 with 1 Axes>"
      ]
     },
     "metadata": {
      "needs_background": "light"
     },
     "output_type": "display_data"
    }
   ],
   "source": [
    "plt.plot(dist.keys(), dist.values(), 'x-')\n",
    "plt.xlabel('K')\n",
    "plt.ylabel('Distortion')\n",
    "plt.suptitle('Elbow method using Distortion')\n",
    "plt.show()"
   ]
  },
  {
   "cell_type": "markdown",
   "metadata": {},
   "source": [
    "Unfortunately there is no clear \"elbow\" on both plots. So I tried values 3 to 6 and compared clusters mean parameters. K=5 gives good results, that you can see right away."
   ]
  },
  {
   "cell_type": "code",
   "execution_count": 53,
   "metadata": {},
   "outputs": [],
   "source": [
    "kclusters = 5\n",
    "kmeans = KMeans(n_clusters=kclusters, random_state=0).fit(grouped_clustering)"
   ]
  },
  {
   "cell_type": "code",
   "execution_count": 54,
   "metadata": {},
   "outputs": [],
   "source": [
    "grouped['Cluster'] = kmeans.labels_\n",
    "merged = df.join(grouped.set_index('Neighborhood'), on='Neighborhood')"
   ]
  },
  {
   "cell_type": "code",
   "execution_count": 55,
   "metadata": {},
   "outputs": [],
   "source": [
    "# create map\n",
    "map_clusters = folium.Map(location=[54.683333, 25.283333], zoom_start=11, tiles='Stamen Toner' )\n",
    "\n",
    "# set color scheme for the clusters\n",
    "x = np.arange(kclusters)\n",
    "ys = [i + x + (i*x)**2 for i in range(kclusters)]\n",
    "colors_array = cm.rainbow(np.linspace(0, 1, len(ys)))\n",
    "rainbow = [colors.rgb2hex(i) for i in colors_array]\n",
    "\n",
    "# add markers to the map\n",
    "markers_colors = []\n",
    "for lat, lon, poi, cluster in zip(merged['Latitude'], merged['Longitude'], merged['Neighborhood'], merged['Cluster']):\n",
    "    label = folium.Popup(str(poi) + ' Cluster ' + str(cluster), parse_html=True)\n",
    "    folium.CircleMarker(\n",
    "        [lat, lon],\n",
    "        radius=5,\n",
    "        popup=label,\n",
    "        color=rainbow[cluster-1],\n",
    "        fill=True,\n",
    "        fill_color=rainbow[cluster-1],\n",
    "        fill_opacity=0.7).add_to(map_clusters)"
   ]
  },
  {
   "cell_type": "markdown",
   "metadata": {},
   "source": [
    "### Clusters map"
   ]
  },
  {
   "cell_type": "code",
   "execution_count": 56,
   "metadata": {
    "scrolled": true
   },
   "outputs": [
    {
     "data": {
      "text/html": [
       "<div style=\"width:100%;\"><div style=\"position:relative;width:100%;height:0;padding-bottom:60%;\"><span style=\"color:#565656\">Make this Notebook Trusted to load map: File -> Trust Notebook</span><iframe src=\"about:blank\" style=\"position:absolute;width:100%;height:100%;left:0;top:0;border:none !important;\" data-html=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 onload=\"this.contentDocument.open();this.contentDocument.write(atob(this.getAttribute('data-html')));this.contentDocument.close();\" allowfullscreen webkitallowfullscreen mozallowfullscreen></iframe></div></div>"
      ],
      "text/plain": [
       "<folium.folium.Map at 0x7fba383f5750>"
      ]
     },
     "execution_count": 56,
     "metadata": {},
     "output_type": "execute_result"
    }
   ],
   "source": [
    "map_clusters"
   ]
  },
  {
   "cell_type": "markdown",
   "metadata": {},
   "source": [
    "### Plotting clusters mean parameters"
   ]
  },
  {
   "cell_type": "code",
   "execution_count": 57,
   "metadata": {},
   "outputs": [
    {
     "data": {
      "image/png": "[encoded data removed]",
      "text/plain": [
       "<Figure size 720x432 with 1 Axes>"
      ]
     },
     "metadata": {
      "needs_background": "light"
     },
     "output_type": "display_data"
    }
   ],
   "source": [
    "ax_cl = merged[['Cluster', 'Bar', 'Parking', 'Transport', 'Bad neighbors']] \\\n",
    ".groupby('Cluster').mean().plot(kind='bar', figsize=(10,6))\n",
    "ax_cl.set_ylabel('Mean frequency', fontsize=16)\n",
    "ax_cl.set_xlabel('Cluster', fontsize=16)\n",
    "plt.show()"
   ]
  },
  {
   "cell_type": "markdown",
   "metadata": {},
   "source": [
    "As we see, optimal cluster for us eill be **cluster #2** as there are bars it (other bars nearby is not always a bad thing) and there are acceptable amount of parkings and transport. Also there are not many bad neighbors."
   ]
  },
  {
   "cell_type": "markdown",
   "metadata": {},
   "source": [
    "### Compare neighborhoods of chosen cluster"
   ]
  },
  {
   "cell_type": "code",
   "execution_count": 63,
   "metadata": {
    "scrolled": false
   },
   "outputs": [
    {
     "data": {
      "image/png": "[encoded data removed]",
      "text/plain": [
       "<Figure size 720x432 with 1 Axes>"
      ]
     },
     "metadata": {
      "needs_background": "light"
     },
     "output_type": "display_data"
    }
   ],
   "source": [
    "neighborhoods_to_plot = merged[merged['Cluster'] == 2][['Neighborhood', 'Bar', \n",
    "                                                        'Parking', 'Transport', 'Bad neighbors']]\n",
    "ax = neighborhoods_to_plot.plot(kind='bar', figsize=(10,6), x='Neighborhood')\n",
    "ax.set_xlabel('Neighborhood', fontsize=16)\n",
    "ax.set_ylabel('Frequency', fontsize=16)\n",
    "plt.show()"
   ]
  },
  {
   "cell_type": "markdown",
   "metadata": {},
   "source": [
    "Out of this 4 neighborhoods, in my opinion, the best will be neighborhood **\"Karoliniskes\"**, as it has the least number of bad neighbors and a good number of parkings, transport and other bars."
   ]
  },
  {
   "cell_type": "code",
   "execution_count": 68,
   "metadata": {},
   "outputs": [
    {
     "data": {
      "text/html": [
       "<div style=\"width:100%;\"><div style=\"position:relative;width:100%;height:0;padding-bottom:60%;\"><span style=\"color:#565656\">Make this Notebook Trusted to load map: File -> Trust Notebook</span><iframe src=\"about:blank\" style=\"position:absolute;width:100%;height:100%;left:0;top:0;border:none !important;\" data-html=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 onload=\"this.contentDocument.open();this.contentDocument.write(atob(this.getAttribute('data-html')));this.contentDocument.close();\" allowfullscreen webkitallowfullscreen mozallowfullscreen></iframe></div></div>"
      ],
      "text/plain": [
       "<folium.folium.Map at 0x7fba37d73990>"
      ]
     },
     "execution_count": 68,
     "metadata": {},
     "output_type": "execute_result"
    }
   ],
   "source": [
    "spot = df[df['Neighborhood'] == 'Karoliniskes']\n",
    "endmap = folium.Map(location=(spot['Latitude'], spot['Longitude']), zoom_start=13)\n",
    "for (name, lat, lng) in zip(spot['Neighborhood'], spot['Latitude'], spot['Longitude']):\n",
    "    folium.CircleMarker(\n",
    "        [lat, lng],\n",
    "        radius=10,\n",
    "        color='red',\n",
    "        fill = True,\n",
    "        popup=name,\n",
    "        fill_color='red'\n",
    "    ).add_to(endmap)\n",
    "endmap"
   ]
  },
  {
   "cell_type": "markdown",
   "metadata": {},
   "source": [
    "<img src=\"img/spot.gif\">"
   ]
  },
  {
   "cell_type": "markdown",
   "metadata": {},
   "source": [
    "## 4. Conclusion\n",
    "In this project, I mined data on Vilnius neighborhoods and their venues, cleaned it, engineered new features and with the help of k-means cluster algorithm splited neighborhoods into 5 clusters.  \n",
    "Then, after analysis I chose cluster for our bar and the best neighborhood in it, which is **\"Karoliniskes\"**."
   ]
  },
  {
   "cell_type": "code",
   "execution_count": null,
   "metadata": {},
   "outputs": [],
   "source": []
  }
 ],
 "metadata": {
  "kernelspec": {
   "display_name": "Python 3",
   "language": "python",
   "name": "python3"
  },
  "language_info": {
   "codemirror_mode": {
    "name": "ipython",
    "version": 3
   },
   "file_extension": ".py",
   "mimetype": "text/x-python",
   "name": "python",
   "nbconvert_exporter": "python",
   "pygments_lexer": "ipython3",
   "version": "3.7.9"
  }
 },
 "nbformat": 4,
 "nbformat_minor": 2
}
