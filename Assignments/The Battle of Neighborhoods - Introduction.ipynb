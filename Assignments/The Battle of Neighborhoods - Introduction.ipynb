{
 "cells": [
  {
   "cell_type": "markdown",
   "metadata": {},
   "source": [
    "# The Battle of Neighborhoods\n",
    "## Introduction\n",
    "## 1. Business problem\n",
    "Couple of old friends decided to make a longtime dream come true. They want to open a craft beer **bar** in Vilnius, Lithuania.  \n",
    "And for that they need the right spot. \n",
    "\n",
    "Property experts say that the **three most important factors** in determining the desirability of a property are:\n",
    "1. Location\n",
    "2. Location\n",
    "3. Location\n",
    "\n",
    "So I have to choose which location fits thir business and their goals."
   ]
  },
  {
   "cell_type": "markdown",
   "metadata": {},
   "source": [
    "<tr>\n",
    "    <td> <img src=\"img/bar.gif\" alt=\"Drawing\" style=\"height: 220px; width: 220px;\"/> </td>\n",
    "    <td> <img src=\"img/ofcourse.gif\" alt=\"Drawing\" style=\"height: 220px; width: 220px;\"/> </td>\n",
    "</tr>"
   ]
  },
  {
   "cell_type": "markdown",
   "metadata": {},
   "source": [
    "## 2. Data\n",
    "### Data requirements\n",
    "After doing some research and reading some articles on how to choose perfect location for a bar (ex. <a src=\"https://www.dummies.com/business/start-a-business/how-to-find-your-bars-ideal-location/\">How to Find Your Bar’s Ideal Location</a>) I decided to use this data:\n",
    "- List of Vilnius neighborhoods \n",
    "- List of all Vilnius beer bars and stores\n",
    "- List of places to be avoided (ex. adult video or bookstores, free clinics, pawn shops)\n",
    "- List of places that is nice to have nearby (ex. parkings)\n",
    "\n",
    "### Data sources\n",
    "\n",
    "- <a src=\"https://en.wikipedia.org/wiki/Neighborhoods_of_Vilnius\">Neighborhoods of Vilnius</a>\n",
    "- <a src=\"https://developer.foursquare.com/docs/places-api/\">Foursquare Places API</a>"
   ]
  },
  {
   "cell_type": "code",
   "execution_count": null,
   "metadata": {},
   "outputs": [],
   "source": []
  }
 ],
 "metadata": {
  "kernelspec": {
   "display_name": "Python 3",
   "language": "python",
   "name": "python3"
  },
  "language_info": {
   "codemirror_mode": {
    "name": "ipython",
    "version": 3
   },
   "file_extension": ".py",
   "mimetype": "text/x-python",
   "name": "python",
   "nbconvert_exporter": "python",
   "pygments_lexer": "ipython3",
   "version": "3.7.3"
  }
 },
 "nbformat": 4,
 "nbformat_minor": 2
}
